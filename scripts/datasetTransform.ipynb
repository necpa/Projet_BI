{
 "cells": [
  {
   "cell_type": "code",
   "id": "initial_id",
   "metadata": {
    "collapsed": true,
    "ExecuteTime": {
     "end_time": "2025-03-03T13:38:45.899565Z",
     "start_time": "2025-03-03T13:38:45.891363Z"
    }
   },
   "source": [
    "import numpy as np\n",
    "from sklearn.compose import ColumnTransformer\n",
    "from sklearn.impute import SimpleImputer\n",
    "from sklearn.preprocessing import StandardScaler, OneHotEncoder, OrdinalEncoder\n",
    "from sklearn import pipeline\n",
    "import joblib\n",
    "\n",
    "np.set_printoptions(threshold=10000, suppress=True)\n",
    "import pandas as pd\n",
    "import warnings\n",
    "from sklearn.model_selection import train_test_split\n",
    "warnings.filterwarnings('ignore')"
   ],
   "outputs": [],
   "execution_count": 4
  },
  {
   "metadata": {
    "ExecuteTime": {
     "end_time": "2025-02-27T15:46:47.809721Z",
     "start_time": "2025-02-27T15:46:47.744016Z"
    }
   },
   "cell_type": "code",
   "source": "data = pd.read_csv(\"../data/healthcare-dataset-stroke-data.csv\")",
   "id": "a3e07b251f488755",
   "outputs": [],
   "execution_count": 20
  },
  {
   "metadata": {
    "ExecuteTime": {
     "end_time": "2025-02-27T15:46:47.903395Z",
     "start_time": "2025-02-27T15:46:47.849197Z"
    }
   },
   "cell_type": "code",
   "source": "data.head()",
   "id": "1934bd9a72e02940",
   "outputs": [
    {
     "data": {
      "text/plain": [
       "      id  gender   age  hypertension  heart_disease ever_married  \\\n",
       "0   9046    Male  67.0             0              1          Yes   \n",
       "1  51676  Female  61.0             0              0          Yes   \n",
       "2  31112    Male  80.0             0              1          Yes   \n",
       "3  60182  Female  49.0             0              0          Yes   \n",
       "4   1665  Female  79.0             1              0          Yes   \n",
       "\n",
       "       work_type Residence_type  avg_glucose_level   bmi   smoking_status  \\\n",
       "0        Private          Urban             228.69  36.6  formerly smoked   \n",
       "1  Self-employed          Rural             202.21   NaN     never smoked   \n",
       "2        Private          Rural             105.92  32.5     never smoked   \n",
       "3        Private          Urban             171.23  34.4           smokes   \n",
       "4  Self-employed          Rural             174.12  24.0     never smoked   \n",
       "\n",
       "   stroke  \n",
       "0       1  \n",
       "1       1  \n",
       "2       1  \n",
       "3       1  \n",
       "4       1  "
      ],
      "text/html": [
       "<div>\n",
       "<style scoped>\n",
       "    .dataframe tbody tr th:only-of-type {\n",
       "        vertical-align: middle;\n",
       "    }\n",
       "\n",
       "    .dataframe tbody tr th {\n",
       "        vertical-align: top;\n",
       "    }\n",
       "\n",
       "    .dataframe thead th {\n",
       "        text-align: right;\n",
       "    }\n",
       "</style>\n",
       "<table border=\"1\" class=\"dataframe\">\n",
       "  <thead>\n",
       "    <tr style=\"text-align: right;\">\n",
       "      <th></th>\n",
       "      <th>id</th>\n",
       "      <th>gender</th>\n",
       "      <th>age</th>\n",
       "      <th>hypertension</th>\n",
       "      <th>heart_disease</th>\n",
       "      <th>ever_married</th>\n",
       "      <th>work_type</th>\n",
       "      <th>Residence_type</th>\n",
       "      <th>avg_glucose_level</th>\n",
       "      <th>bmi</th>\n",
       "      <th>smoking_status</th>\n",
       "      <th>stroke</th>\n",
       "    </tr>\n",
       "  </thead>\n",
       "  <tbody>\n",
       "    <tr>\n",
       "      <th>0</th>\n",
       "      <td>9046</td>\n",
       "      <td>Male</td>\n",
       "      <td>67.0</td>\n",
       "      <td>0</td>\n",
       "      <td>1</td>\n",
       "      <td>Yes</td>\n",
       "      <td>Private</td>\n",
       "      <td>Urban</td>\n",
       "      <td>228.69</td>\n",
       "      <td>36.6</td>\n",
       "      <td>formerly smoked</td>\n",
       "      <td>1</td>\n",
       "    </tr>\n",
       "    <tr>\n",
       "      <th>1</th>\n",
       "      <td>51676</td>\n",
       "      <td>Female</td>\n",
       "      <td>61.0</td>\n",
       "      <td>0</td>\n",
       "      <td>0</td>\n",
       "      <td>Yes</td>\n",
       "      <td>Self-employed</td>\n",
       "      <td>Rural</td>\n",
       "      <td>202.21</td>\n",
       "      <td>NaN</td>\n",
       "      <td>never smoked</td>\n",
       "      <td>1</td>\n",
       "    </tr>\n",
       "    <tr>\n",
       "      <th>2</th>\n",
       "      <td>31112</td>\n",
       "      <td>Male</td>\n",
       "      <td>80.0</td>\n",
       "      <td>0</td>\n",
       "      <td>1</td>\n",
       "      <td>Yes</td>\n",
       "      <td>Private</td>\n",
       "      <td>Rural</td>\n",
       "      <td>105.92</td>\n",
       "      <td>32.5</td>\n",
       "      <td>never smoked</td>\n",
       "      <td>1</td>\n",
       "    </tr>\n",
       "    <tr>\n",
       "      <th>3</th>\n",
       "      <td>60182</td>\n",
       "      <td>Female</td>\n",
       "      <td>49.0</td>\n",
       "      <td>0</td>\n",
       "      <td>0</td>\n",
       "      <td>Yes</td>\n",
       "      <td>Private</td>\n",
       "      <td>Urban</td>\n",
       "      <td>171.23</td>\n",
       "      <td>34.4</td>\n",
       "      <td>smokes</td>\n",
       "      <td>1</td>\n",
       "    </tr>\n",
       "    <tr>\n",
       "      <th>4</th>\n",
       "      <td>1665</td>\n",
       "      <td>Female</td>\n",
       "      <td>79.0</td>\n",
       "      <td>1</td>\n",
       "      <td>0</td>\n",
       "      <td>Yes</td>\n",
       "      <td>Self-employed</td>\n",
       "      <td>Rural</td>\n",
       "      <td>174.12</td>\n",
       "      <td>24.0</td>\n",
       "      <td>never smoked</td>\n",
       "      <td>1</td>\n",
       "    </tr>\n",
       "  </tbody>\n",
       "</table>\n",
       "</div>"
      ]
     },
     "execution_count": 21,
     "metadata": {},
     "output_type": "execute_result"
    }
   ],
   "execution_count": 21
  },
  {
   "metadata": {
    "ExecuteTime": {
     "end_time": "2025-02-27T15:46:48.096231Z",
     "start_time": "2025-02-27T15:46:48.080307Z"
    }
   },
   "cell_type": "code",
   "source": "data.drop('id', axis=1, inplace=True)",
   "id": "923ee9be4d46d7a2",
   "outputs": [],
   "execution_count": 22
  },
  {
   "metadata": {
    "ExecuteTime": {
     "end_time": "2025-02-27T15:46:48.298514Z",
     "start_time": "2025-02-27T15:46:48.268564Z"
    }
   },
   "cell_type": "code",
   "source": "data.info()",
   "id": "d65060914851d5cd",
   "outputs": [
    {
     "name": "stdout",
     "output_type": "stream",
     "text": [
      "<class 'pandas.core.frame.DataFrame'>\n",
      "RangeIndex: 5110 entries, 0 to 5109\n",
      "Data columns (total 11 columns):\n",
      " #   Column             Non-Null Count  Dtype  \n",
      "---  ------             --------------  -----  \n",
      " 0   gender             5110 non-null   object \n",
      " 1   age                5110 non-null   float64\n",
      " 2   hypertension       5110 non-null   int64  \n",
      " 3   heart_disease      5110 non-null   int64  \n",
      " 4   ever_married       5110 non-null   object \n",
      " 5   work_type          5110 non-null   object \n",
      " 6   Residence_type     5110 non-null   object \n",
      " 7   avg_glucose_level  5110 non-null   float64\n",
      " 8   bmi                4909 non-null   float64\n",
      " 9   smoking_status     5110 non-null   object \n",
      " 10  stroke             5110 non-null   int64  \n",
      "dtypes: float64(3), int64(3), object(5)\n",
      "memory usage: 439.3+ KB\n"
     ]
    }
   ],
   "execution_count": 23
  },
  {
   "metadata": {
    "ExecuteTime": {
     "end_time": "2025-02-27T15:46:48.568936Z",
     "start_time": "2025-02-27T15:46:48.544136Z"
    }
   },
   "cell_type": "code",
   "source": "data.duplicated().any()",
   "id": "bd20a7713c798145",
   "outputs": [
    {
     "data": {
      "text/plain": [
       "np.False_"
      ]
     },
     "execution_count": 24,
     "metadata": {},
     "output_type": "execute_result"
    }
   ],
   "execution_count": 24
  },
  {
   "metadata": {
    "ExecuteTime": {
     "end_time": "2025-02-27T15:46:48.746053Z",
     "start_time": "2025-02-27T15:46:48.725259Z"
    }
   },
   "cell_type": "code",
   "source": "data.isnull().sum()",
   "id": "6ff8769d368b799c",
   "outputs": [
    {
     "data": {
      "text/plain": [
       "gender                 0\n",
       "age                    0\n",
       "hypertension           0\n",
       "heart_disease          0\n",
       "ever_married           0\n",
       "work_type              0\n",
       "Residence_type         0\n",
       "avg_glucose_level      0\n",
       "bmi                  201\n",
       "smoking_status         0\n",
       "stroke                 0\n",
       "dtype: int64"
      ]
     },
     "execution_count": 25,
     "metadata": {},
     "output_type": "execute_result"
    }
   ],
   "execution_count": 25
  },
  {
   "metadata": {
    "ExecuteTime": {
     "end_time": "2025-02-27T15:46:48.933821Z",
     "start_time": "2025-02-27T15:46:48.920266Z"
    }
   },
   "cell_type": "code",
   "source": "data.bmi.fillna(data.bmi.mean(), inplace=True)",
   "id": "f2b73d20ae1a1f71",
   "outputs": [],
   "execution_count": 26
  },
  {
   "metadata": {
    "ExecuteTime": {
     "end_time": "2025-02-27T15:46:49.141953Z",
     "start_time": "2025-02-27T15:46:49.126205Z"
    }
   },
   "cell_type": "code",
   "source": "data.dtypes",
   "id": "559a1ae2a4aef303",
   "outputs": [
    {
     "data": {
      "text/plain": [
       "gender                object\n",
       "age                  float64\n",
       "hypertension           int64\n",
       "heart_disease          int64\n",
       "ever_married          object\n",
       "work_type             object\n",
       "Residence_type        object\n",
       "avg_glucose_level    float64\n",
       "bmi                  float64\n",
       "smoking_status        object\n",
       "stroke                 int64\n",
       "dtype: object"
      ]
     },
     "execution_count": 27,
     "metadata": {},
     "output_type": "execute_result"
    }
   ],
   "execution_count": 27
  },
  {
   "metadata": {
    "ExecuteTime": {
     "end_time": "2025-02-27T15:46:49.402057Z",
     "start_time": "2025-02-27T15:46:49.387364Z"
    }
   },
   "cell_type": "code",
   "source": [
    "numerical = data.select_dtypes(include=[\"int64\",\"float64\"]).columns.to_list()\n",
    "numerical"
   ],
   "id": "de431f56f260369f",
   "outputs": [
    {
     "data": {
      "text/plain": [
       "['age', 'hypertension', 'heart_disease', 'avg_glucose_level', 'bmi', 'stroke']"
      ]
     },
     "execution_count": 28,
     "metadata": {},
     "output_type": "execute_result"
    }
   ],
   "execution_count": 28
  },
  {
   "metadata": {
    "ExecuteTime": {
     "end_time": "2025-02-27T15:46:49.663061Z",
     "start_time": "2025-02-27T15:46:49.640076Z"
    }
   },
   "cell_type": "code",
   "source": "data[numerical[:1]] = StandardScaler().fit_transform(data[numerical[:1]])",
   "id": "25c29ca781e37beb",
   "outputs": [],
   "execution_count": 29
  },
  {
   "metadata": {
    "ExecuteTime": {
     "end_time": "2025-02-27T15:49:10.479715Z",
     "start_time": "2025-02-27T15:49:10.460577Z"
    }
   },
   "cell_type": "code",
   "source": [
    "categories = data.select_dtypes(include=['object']).columns.tolist()\n",
    "categories"
   ],
   "id": "3d63b637098cb9d",
   "outputs": [
    {
     "data": {
      "text/plain": [
       "['gender', 'ever_married', 'work_type', 'Residence_type', 'smoking_status']"
      ]
     },
     "execution_count": 30,
     "metadata": {},
     "output_type": "execute_result"
    }
   ],
   "execution_count": 30
  },
  {
   "metadata": {
    "ExecuteTime": {
     "end_time": "2025-02-27T15:49:26.321740Z",
     "start_time": "2025-02-27T15:49:26.298103Z"
    }
   },
   "cell_type": "code",
   "source": [
    "data.drop(data[data.gender == 'Other'].index,inplace=True)\n",
    "data.reset_index(drop=True,inplace=True)"
   ],
   "id": "ac825f7580725580",
   "outputs": [],
   "execution_count": 31
  },
  {
   "metadata": {
    "ExecuteTime": {
     "end_time": "2025-02-27T15:49:42.558091Z",
     "start_time": "2025-02-27T15:49:42.543209Z"
    }
   },
   "cell_type": "code",
   "source": "data.gender = data.gender.map({'Male':0,'Female':1})",
   "id": "becfb8ffa4bf5777",
   "outputs": [],
   "execution_count": 32
  },
  {
   "metadata": {
    "ExecuteTime": {
     "end_time": "2025-02-27T15:50:01.093265Z",
     "start_time": "2025-02-27T15:50:01.077386Z"
    }
   },
   "cell_type": "code",
   "source": "data.ever_married = data.ever_married.map({'No':0,'Yes':1})",
   "id": "8a9b13a668485324",
   "outputs": [],
   "execution_count": 33
  },
  {
   "metadata": {
    "ExecuteTime": {
     "end_time": "2025-02-27T15:50:11.848981Z",
     "start_time": "2025-02-27T15:50:11.823760Z"
    }
   },
   "cell_type": "code",
   "source": "data.work_type = data.work_type.map({'Private':0,'Self-employed':1,'children':2,'Govt_job':3,'Never_worked':4})",
   "id": "6937c0578cc9c6b5",
   "outputs": [],
   "execution_count": 34
  },
  {
   "metadata": {
    "ExecuteTime": {
     "end_time": "2025-02-27T15:50:29.514432Z",
     "start_time": "2025-02-27T15:50:29.497484Z"
    }
   },
   "cell_type": "code",
   "source": "data.Residence_type = data.Residence_type.map({'Urban':0,'Rural':1})",
   "id": "1ded5fa756ddca90",
   "outputs": [],
   "execution_count": 35
  },
  {
   "metadata": {
    "ExecuteTime": {
     "end_time": "2025-02-27T15:50:52.101543Z",
     "start_time": "2025-02-27T15:50:52.087152Z"
    }
   },
   "cell_type": "code",
   "source": "data.smoking_status = data.smoking_status.map({'never smoked':0,'formerly smoked':1,'smokes':2,'Unknown':3})",
   "id": "1d872b63b8a86690",
   "outputs": [],
   "execution_count": 36
  },
  {
   "metadata": {
    "ExecuteTime": {
     "end_time": "2025-02-27T15:51:08.247211Z",
     "start_time": "2025-02-27T15:51:08.226442Z"
    }
   },
   "cell_type": "code",
   "source": [
    "X = data.drop('stroke',axis=1)\n",
    "y = data.stroke\n",
    "X.shape,y.shape"
   ],
   "id": "d64d0bf50599b177",
   "outputs": [
    {
     "data": {
      "text/plain": [
       "((5109, 10), (5109,))"
      ]
     },
     "execution_count": 37,
     "metadata": {},
     "output_type": "execute_result"
    }
   ],
   "execution_count": 37
  },
  {
   "metadata": {
    "ExecuteTime": {
     "end_time": "2025-02-27T15:51:30.951226Z",
     "start_time": "2025-02-27T15:51:30.929834Z"
    }
   },
   "cell_type": "code",
   "source": "y.value_counts()",
   "id": "1cb56e10e90a84cb",
   "outputs": [
    {
     "data": {
      "text/plain": [
       "stroke\n",
       "0    4860\n",
       "1     249\n",
       "Name: count, dtype: int64"
      ]
     },
     "execution_count": 38,
     "metadata": {},
     "output_type": "execute_result"
    }
   ],
   "execution_count": 38
  },
  {
   "metadata": {
    "ExecuteTime": {
     "end_time": "2025-02-27T15:51:41.791742Z",
     "start_time": "2025-02-27T15:51:41.753945Z"
    }
   },
   "cell_type": "code",
   "source": "X_train, X_test, y_train, y_test = train_test_split(X, y, test_size=0.2, random_state=42, stratify=y)",
   "id": "c42e78711285c927",
   "outputs": [],
   "execution_count": 39
  },
  {
   "metadata": {
    "ExecuteTime": {
     "end_time": "2025-03-01T11:23:04.397180Z",
     "start_time": "2025-03-01T11:23:04.388868Z"
    }
   },
   "cell_type": "code",
   "source": [
    "from sklearn.svm import SVC\n",
    "from sklearn.model_selection import RandomizedSearchCV\n",
    "from sklearn.ensemble import RandomForestClassifier\n",
    "\n",
    "parameters = {\n",
    "    'C': [0.001, 0.01, 0.1, 1, 10, 100],\n",
    "    'gamma': [0.001, 0.01, 0.1, 1, 100]\n",
    "}\n",
    "# Inisialisasi base learners\n",
    "rf_model = RandomForestClassifier(random_state=1234)  # Random Forest\n",
    "svm_model = RandomizedSearchCV(\n",
    "    estimator=SVC(probability=True, random_state=1234),\n",
    "    param_distributions=parameters,\n",
    "    cv=5,\n",
    "    random_state=1234\n",
    ")"
   ],
   "id": "6c0d0f82a2f5ffe",
   "outputs": [],
   "execution_count": 5
  },
  {
   "metadata": {
    "ExecuteTime": {
     "end_time": "2025-03-01T11:23:05.977618Z",
     "start_time": "2025-03-01T11:23:05.970348Z"
    }
   },
   "cell_type": "code",
   "source": [
    "from sklearn.ensemble import VotingClassifier\n",
    "\n",
    "ensemble_model = VotingClassifier(\n",
    "    estimators=[\n",
    "        ('random_forest', rf_model),\n",
    "        ('svm', svm_model)\n",
    "    ],\n",
    "    voting='soft'  # Soft voting menggunakan probabilitas untuk memutuskan kelas\n",
    ")"
   ],
   "id": "55a23b5b24d07ffb",
   "outputs": [],
   "execution_count": 6
  },
  {
   "metadata": {
    "ExecuteTime": {
     "end_time": "2025-02-27T15:57:01.520077Z",
     "start_time": "2025-02-27T15:53:22.939238Z"
    }
   },
   "cell_type": "code",
   "source": [
    "from matplotlib import pyplot as plt\n",
    "from sklearn.metrics import accuracy_score, classification_report, ConfusionMatrixDisplay, confusion_matrix\n",
    "\n",
    "# Latih ensemble model\n",
    "ensemble_model.fit(X_train, y_train)\n",
    "\n",
    "# Prediksi label\n",
    "y_pred = ensemble_model.predict(X_test)\n",
    "\n",
    "# Evaluasi model\n",
    "accuracy = accuracy_score(y_test, y_pred)\n",
    "print(f'Accuracy: {accuracy:.4f}')\n",
    "print(classification_report(y_test, y_pred))\n",
    "\n",
    "# Plot confusion matrix\n",
    "ConfusionMatrixDisplay(confusion_matrix(y_test, y_pred), display_labels=['No Stroke', 'Stroke']).plot()\n",
    "plt.show()"
   ],
   "id": "7b4d53129e2066e5",
   "outputs": [
    {
     "name": "stdout",
     "output_type": "stream",
     "text": [
      "Accuracy: 0.9501\n",
      "              precision    recall  f1-score   support\n",
      "\n",
      "           0       0.95      1.00      0.97       972\n",
      "           1       0.00      0.00      0.00        50\n",
      "\n",
      "    accuracy                           0.95      1022\n",
      "   macro avg       0.48      0.50      0.49      1022\n",
      "weighted avg       0.90      0.95      0.93      1022\n",
      "\n"
     ]
    },
    {
     "data": {
      "text/plain": [
       "<Figure size 640x480 with 2 Axes>"
      ],
      "image/png": "[encoded data removed]"
     },
     "metadata": {},
     "output_type": "display_data"
    }
   ],
   "execution_count": 43
  },
  {
   "metadata": {
    "ExecuteTime": {
     "end_time": "2025-03-01T11:42:25.293374Z",
     "start_time": "2025-03-01T11:23:09.683312Z"
    }
   },
   "cell_type": "code",
   "source": [
    "data = pd.read_csv(\"../data/healthcare-dataset-stroke-data.csv\")\n",
    "data.drop('id', axis=1, inplace=True)\n",
    "dataArray = data.values\n",
    "data.drop('stroke', axis=1, inplace=True)\n",
    "numerical = data.select_dtypes(include=[\"int64\",\"float64\"]).columns.to_list()\n",
    "categories = data.select_dtypes(include=['object']).columns.tolist()\n",
    "numerical_indices = [data.columns.get_loc(col) for col in numerical]\n",
    "categorical_indices = [data.columns.get_loc(col) for col in categories]\n",
    "x = dataArray[:,:-1]\n",
    "y = dataArray[:,-1]\n",
    "y = y.astype(int)\n",
    "\n",
    "from imblearn.over_sampling import RandomOverSampler\n",
    "ros = RandomOverSampler(sampling_strategy='minority')\n",
    "x, y = ros.fit_resample(x, y)\n",
    "\n",
    "numeric_transformer = pipeline.Pipeline([\n",
    "    ('imputer', SimpleImputer(strategy='median'))\n",
    "])\n",
    "\n",
    "categorical_transformer = OrdinalEncoder()\n",
    "\n",
    "preprocessor = ColumnTransformer([\n",
    "    ('num', numeric_transformer, numerical_indices),\n",
    "    ('cat', categorical_transformer, categorical_indices)\n",
    "])\n",
    "x = preprocessor.fit_transform(x)\n",
    "joblib.dump(preprocessor, open('../artifacts/embedding.joblib', \"wb\"))\n",
    "\n",
    "p = pipeline.Pipeline([\n",
    "    ('Scaler', StandardScaler())\n",
    "])\n",
    "x = p.fit_transform(x)\n",
    "joblib.dump(p, open('../artifacts/scaler.joblib', \"wb\"))\n",
    "\n",
    "p = pipeline.Pipeline([\n",
    "        ('Classifier', ensemble_model)\n",
    "    ])\n",
    "\n",
    "p.fit(x,y)\n",
    "\n",
    "joblib.dump(p, open('../artifacts/model.joblib', \"wb\"))"
   ],
   "id": "1ebe8dab444ea55e",
   "outputs": [],
   "execution_count": 7
  },
  {
   "metadata": {
    "ExecuteTime": {
     "end_time": "2025-03-03T13:40:48.106104Z",
     "start_time": "2025-03-03T13:40:47.945798Z"
    }
   },
   "cell_type": "code",
   "source": [
    "data = pd.read_csv(\"../data/healthcare-dataset-stroke-data.csv\")\n",
    "data.drop('id', axis=1, inplace=True)\n",
    "dataArray = data.values\n",
    "x = dataArray[:, :-1]\n",
    "y = dataArray[:, -1]\n",
    "y = y.astype(int)\n",
    "\n",
    "joblib_embedding = joblib.load('../artifacts/embedding.joblib')\n",
    "joblib_scaler = joblib.load('../artifacts/scaler.joblib')\n",
    "\n",
    "# Apply the embedding and scaler\n",
    "x_transformed = joblib_embedding.transform(x)\n",
    "x_scaled = joblib_scaler.transform(x_transformed)\n",
    "\n",
    "# Combine the processed data back into a DataFrame with the original column names\n",
    "numerical = data.select_dtypes(include=[\"int64\", \"float64\"]).columns.to_list()\n",
    "categories = data.select_dtypes(include=['object']).columns.tolist()\n",
    "processed_columns = numerical[:-1] + categories  # Exclude 'stroke' column from numerical\n",
    "\n",
    "x = pd.DataFrame(x_scaled, columns=processed_columns)\n",
    "y = pd.DataFrame(y, columns=[\"stroke\"])\n",
    "data = pd.concat([x, y], axis=1)\n",
    "data.to_csv(\"../data/ref_data.csv\", index=False)"
   ],
   "id": "b63ba9c000c2143a",
   "outputs": [],
   "execution_count": 6
  }
 ],
 "metadata": {
  "kernelspec": {
   "display_name": "Python 3",
   "language": "python",
   "name": "python3"
  },
  "language_info": {
   "codemirror_mode": {
    "name": "ipython",
    "version": 2
   },
   "file_extension": ".py",
   "mimetype": "text/x-python",
   "name": "python",
   "nbconvert_exporter": "python",
   "pygments_lexer": "ipython2",
   "version": "2.7.6"
  }
 },
 "nbformat": 4,
 "nbformat_minor": 5
}
